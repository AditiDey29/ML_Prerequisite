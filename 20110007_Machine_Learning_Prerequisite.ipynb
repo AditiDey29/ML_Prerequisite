{
  "nbformat": 4,
  "nbformat_minor": 0,
  "metadata": {
    "colab": {
      "provenance": []
    },
    "kernelspec": {
      "name": "python3",
      "display_name": "Python 3"
    },
    "language_info": {
      "name": "python"
    }
  },
  "cells": [
    {
      "cell_type": "markdown",
      "source": [
        "\n",
        "\n",
        "# Question 1\n"
      ],
      "metadata": {
        "id": "MtpolEpD_h_H"
      }
    },
    {
      "cell_type": "markdown",
      "source": [
        "\n",
        "In matrix multiplication, when multiplying matrices $A$ and $B$ of dimensions $(n,k)$ and $(k,m)$ respectively to obtain matrix $C$, with dimensions $(n,m)$, each element $C_{ij}$ is calculated by taking the ith row of $A$ and the jth column of $B$, multiplying corresponding elements, and then summing these products. This process involves $k$ multiplications and $k-1$ additions per element manually, while the code execution involves $k$ additions for each element. Overall, obtaining the complete matrix $C$ requires $n \\times m \\times k$ multiplications and $n \\times m \\times (k-1)$ manual additions, alongside $n \\times m \\times k$ additions using code."
      ],
      "metadata": {
        "id": "O-ohqFrq_mwF"
      }
    },
    {
      "cell_type": "markdown",
      "source": [
        " # Question 2\n",
        ""
      ],
      "metadata": {
        "id": "DkzBjTJZ_sfW"
      }
    },
    {
      "cell_type": "markdown",
      "source": [
        "Creating the Matrices"
      ],
      "metadata": {
        "id": "snI-KymhGP1j"
      }
    },
    {
      "cell_type": "code",
      "source": [
        "import random\n",
        "n = random.randint(50, 100)\n",
        "k = random.randint(50, 100)\n",
        "m = random.randint(50, 100)\n",
        "Matrix1 = []\n",
        "Matrix2 = []\n",
        "\n",
        "for i in range(n):\n",
        "    row = random.sample(range(1,1000), k)\n",
        "\n",
        "    Matrix1.append(row)\n",
        "\n",
        "for i in range(k):\n",
        "    row = random.sample(range(1,1000), m)\n",
        "    Matrix2.append(row)"
      ],
      "metadata": {
        "id": "hFT7W2nq_rE2"
      },
      "execution_count": 5,
      "outputs": []
    },
    {
      "cell_type": "markdown",
      "source": [
        "Using Lists"
      ],
      "metadata": {
        "id": "vY0OtVE6GlN4"
      }
    },
    {
      "cell_type": "code",
      "source": [
        "import time\n",
        "\n",
        "def Using_lists(n, m, k, Matrix1, Matrix2):\n",
        "    Matrix_row = n\n",
        "    Matrix_col = m\n",
        "\n",
        "    Matrix = [[0 for j in range(m)] for i in range(n)]\n",
        "\n",
        "    start = time.time()\n",
        "    for i in range(n):\n",
        "        for j in range(m):\n",
        "            Matrix[i][j] =0\n",
        "            for l in range(k):\n",
        "                Matrix[i][j] += Matrix1[i][l]*Matrix2[l][j]\n",
        "\n",
        "    end = time.time()\n",
        "\n",
        "    time1 = end- start\n",
        "    return time1\n"
      ],
      "metadata": {
        "id": "vaarsgo5_ycp"
      },
      "execution_count": 6,
      "outputs": []
    },
    {
      "cell_type": "markdown",
      "source": [
        "Using Numpy"
      ],
      "metadata": {
        "id": "U7FCNmBGGsAM"
      }
    },
    {
      "cell_type": "code",
      "source": [
        "import numpy as np\n",
        "import time\n",
        "def Using_numpy(n, m, k, Matrix1, Matrix2):\n",
        "    Matrix1 = np.array(Matrix1)\n",
        "    Matrix2 = np.array(Matrix2)\n",
        "\n",
        "    #print(Matrix1, Matrix2)\n",
        "\n",
        "    start = time.time()\n",
        "    Matrix = Matrix1.dot(Matrix2)\n",
        "    end = time.time()\n",
        "\n",
        "    time2 = end- start\n",
        "\n",
        "    return time2\n"
      ],
      "metadata": {
        "id": "L0FzFgt7_0O-"
      },
      "execution_count": 7,
      "outputs": []
    },
    {
      "cell_type": "markdown",
      "source": [
        "Comparing the Times"
      ],
      "metadata": {
        "id": "V-29Kq2EHF_y"
      }
    },
    {
      "cell_type": "code",
      "source": [
        "numpy_time = []\n",
        "lists_time = []\n",
        "for i in range(100):\n",
        "    numpy_time.append(Using_numpy(n, m, k, Matrix1, Matrix2))\n",
        "\n",
        "    lists_time.append(Using_lists(n, m, k, Matrix1, Matrix2))\n",
        "\n",
        "\n",
        "print(\"Matrix multiplication using Numpy\")\n",
        "mean_numpy = sum(numpy_time)/100\n",
        "print(\"Average time = \", mean_numpy*1000, \"ms\")\n",
        "\n",
        "\n",
        "print(\"Matrix multiplication using lists\")\n",
        "mean_lists = sum(lists_time)/100\n",
        "sd_lists = np.std(lists_time)\n",
        "print(\"Average time = \", mean_lists*1000, \"ms\")\n",
        "\n",
        "\n"
      ],
      "metadata": {
        "colab": {
          "base_uri": "https://localhost:8080/"
        },
        "id": "80t1xkW2_1ls",
        "outputId": "62fde03d-8e8b-4d44-b729-579c98fab78a"
      },
      "execution_count": 9,
      "outputs": [
        {
          "output_type": "stream",
          "name": "stdout",
          "text": [
            "Matrix multiplication using Numpy\n",
            "Average time =  0.36688804626464844 ms\n",
            "Matrix multiplication using lists\n",
            "Average time =  83.65791082382202 ms\n"
          ]
        }
      ]
    },
    {
      "cell_type": "markdown",
      "source": [
        "Numpy works faster than lists for matrix multiplication because:\n",
        "\n",
        "1.   Numpy arranges data in contiguous memory blocks, which helps in quicker access.\n",
        "2.   It uses parallel processing and uses cashe enhancing speed.\n"
      ],
      "metadata": {
        "id": "p0gAMvoPIGyL"
      }
    },
    {
      "cell_type": "markdown",
      "source": [
        "#Question 3"
      ],
      "metadata": {
        "id": "wvR3isxy_4SX"
      }
    },
    {
      "cell_type": "code",
      "source": [
        "import random\n",
        "import time\n",
        "import numpy as np\n",
        "\n",
        "# Generate a random size for the array\n",
        "size = random.randint(1, 1000)\n",
        "original_arr = [random.random() for i in range(size)]\n",
        "\n",
        "# Create a duplicate of the array\n",
        "duplicate_arr = original_arr.copy()\n",
        "\n",
        "# method to find the median using a custom approach\n",
        "def find_median_custom(arr, size):\n",
        "    dict_elements = {}\n",
        "    for i in range(size):\n",
        "        dict_elements[arr[i]] = -1\n",
        "\n",
        "    keys = []\n",
        "    for i in range(size // 2 + 1):\n",
        "        max_val = arr[0]\n",
        "        for j in range(size):\n",
        "            if max_val <= arr[j]:\n",
        "                max_val = arr[j]\n",
        "                index = j\n",
        "\n",
        "        if dict_elements[max_val] != index:\n",
        "            dict_elements[max_val] = index\n",
        "            keys.append(max_val)\n",
        "            arr[index] = -1\n",
        "\n",
        "    if size & 1:\n",
        "        median_val = keys[-1]\n",
        "    else:\n",
        "        median_val = (keys[-1] + keys[-2]) / 2\n",
        "\n",
        "    return median_val\n",
        "\n",
        "# a more efficient method\n",
        "def find_median_efficient(arr, size):\n",
        "    arr.sort()\n",
        "\n",
        "    if size % 2 == 0:\n",
        "        median_val = (arr[size // 2] + arr[size // 2 - 1]) / 2\n",
        "    else:\n",
        "        median_val = arr[size // 2]\n",
        "    return median_val\n",
        "\n",
        "# using numpy\n",
        "def find_median_numpy(arr, size):\n",
        "    return np.median(arr)\n",
        "\n",
        "# Print the medians calculated by different methods\n",
        "print(find_median_custom(duplicate_arr, size), find_median_efficient(original_arr, size), find_median_numpy(original_arr, size))\n"
      ],
      "metadata": {
        "colab": {
          "base_uri": "https://localhost:8080/"
        },
        "id": "BZvETxRC_2_9",
        "outputId": "28e51ca1-1520-493b-8d0a-fa5cc4dbafec"
      },
      "execution_count": 14,
      "outputs": [
        {
          "output_type": "stream",
          "name": "stdout",
          "text": [
            "0.5255969885322629 0.5255969885322629 0.5255969885322629\n"
          ]
        }
      ]
    },
    {
      "cell_type": "code",
      "source": [
        "time_custom = []\n",
        "time_efficient = []\n",
        "time_numpy = []\n",
        "\n",
        "for i in range(1000):\n",
        "    size = random.randint(1, 1000)\n",
        "    original_arr = [random.random() for i in range(size)]\n",
        "    duplicate_arr = original_arr.copy()\n",
        "\n",
        "    start = time.time() * 1000\n",
        "    med = find_median_custom(duplicate_arr, size)\n",
        "    end = time.time() * 1000\n",
        "    time_custom.append(end - start)\n",
        "\n",
        "    start = time.time() * 1000\n",
        "    med = find_median_efficient(original_arr, size)\n",
        "    end = time.time() * 1000\n",
        "    time_efficient.append(end - start)\n",
        "\n",
        "    start = time.time() * 1000\n",
        "    med = find_median_numpy(original_arr, size)\n",
        "    end = time.time() * 1000\n",
        "    time_numpy.append(end - start)\n",
        "\n",
        "mean_time_custom = sum(time_custom) / 1000\n",
        "mean_time_efficient = sum(time_efficient) / 1000\n",
        "mean_time_numpy = sum(time_numpy) / 1000\n",
        "\n",
        "time_custom = np.array(time_custom)\n",
        "time_efficient = np.array(time_efficient)\n",
        "time_numpy = np.array(time_numpy)\n",
        "\n",
        "print(\"Using custom method\")\n",
        "print(\"Average time = \", mean_time_custom, \"ms\")\n",
        "\n",
        "print(\"Using efficient method\")\n",
        "print(\"Average time = \", mean_time_efficient, \"ms\")\n",
        "\n",
        "print(\"Using Numpy method\")\n",
        "print(\"Average time = \", mean_time_numpy, \"ms\")"
      ],
      "metadata": {
        "colab": {
          "base_uri": "https://localhost:8080/"
        },
        "id": "9kyHQPowQFHh",
        "outputId": "1283284b-cfed-4eda-8dd2-1aeeb0f813df"
      },
      "execution_count": 17,
      "outputs": [
        {
          "output_type": "stream",
          "name": "stdout",
          "text": [
            "Using custom method\n",
            "Average time =  13.18757958984375 ms\n",
            "Using efficient method\n",
            "Average time =  0.067947021484375 ms\n",
            "Using Numpy method\n",
            "Average time =  0.211326904296875 ms\n"
          ]
        }
      ]
    },
    {
      "cell_type": "markdown",
      "source": [
        "The optimal method for finding the median proves faster compared to the other approaches mentioned.\n",
        "\n",
        "The time complexity of the optimal method is $O(n\\log n)$, while the passes method operates at a time complexity of $O(n^2)$."
      ],
      "metadata": {
        "id": "VFp8la55Tnxv"
      }
    },
    {
      "cell_type": "markdown",
      "source": [
        "#Question 4"
      ],
      "metadata": {
        "id": "S1JcDE8aAGKw"
      }
    },
    {
      "cell_type": "markdown",
      "source": [
        " $ f = x^2y + y^3sin(x) $\n",
        "\n",
        " $\\partial f / \\partial x = 2xy + y^3 cos(x)$\n",
        "\n",
        "\n",
        " $\\partial f / \\partial y = x^2 + 3y^2 sin(x)$"
      ],
      "metadata": {
        "id": "TWqblw3OAfcD"
      }
    },
    {
      "cell_type": "markdown",
      "source": [
        "#Question 5"
      ],
      "metadata": {
        "id": "hGOYkDWWAfz-"
      }
    },
    {
      "cell_type": "code",
      "source": [
        "import random\n",
        "import jax\n",
        "import jax.numpy as npy\n",
        "\n",
        "# Define the main function\n",
        "def main_function(x, y):\n",
        "    return (x**2) * y + (y**3) * npy.sin(x)\n",
        "\n",
        "# Gradients using JAX\n",
        "jax_grad_x = jax.grad(main_function, 0)\n",
        "jax_grad_y = jax.grad(main_function, 1)\n",
        "\n",
        "# Random values for x and y\n",
        "x = random.random()\n",
        "y = random.random()\n",
        "\n",
        "# Manual Computation\n",
        "computed_x_grad = 2 * x * y + (y**3) * npy.cos(x)\n",
        "computed_y_grad = (x**2) + 3 * (y**2) * npy.sin(x)\n",
        "\n",
        "# Results\n",
        "print(\"Manual Computation :\", \"Gradient wrt x = \", computed_x_grad, \"Gradient wrt y = \", computed_y_grad)\n",
        "print(\"JAX Computation :\",\"Gradient wrt x = \", jax_grad_x(x, y), \"Gradient wrt y = \", jax_grad_y(x, y))\n"
      ],
      "metadata": {
        "colab": {
          "base_uri": "https://localhost:8080/"
        },
        "id": "TnndzMLQ_-oG",
        "outputId": "73e73f05-a382-4b55-f129-41106b36eb7a"
      },
      "execution_count": 21,
      "outputs": [
        {
          "output_type": "stream",
          "name": "stdout",
          "text": [
            "Manual Computation : Gradient wrt x =  1.2259233 Gradient wrt y =  1.1203843\n",
            "JAX Computation : Gradient wrt x =  1.2259233 Gradient wrt y =  1.1203843\n"
          ]
        }
      ]
    },
    {
      "cell_type": "markdown",
      "source": [
        "#Question 6"
      ],
      "metadata": {
        "id": "b_CGWO7hAPxV"
      }
    },
    {
      "cell_type": "code",
      "source": [
        "import numpy as np\n",
        "\n",
        "import sympy as sp\n",
        "x, y = sp.symbols('x, y')\n",
        "f = (x**2)*y + (y**3)*(sp.sin(x))\n",
        "print(\"x gradient = \", sp.diff(f, x))\n",
        "print(\"y gradient = \", sp.diff(f, y))"
      ],
      "metadata": {
        "colab": {
          "base_uri": "https://localhost:8080/"
        },
        "id": "d13asmKTARlJ",
        "outputId": "4def34bb-f210-4296-9dcd-c79a0a876cf2"
      },
      "execution_count": 22,
      "outputs": [
        {
          "output_type": "stream",
          "name": "stdout",
          "text": [
            "x gradient =  2*x*y + y**3*cos(x)\n",
            "y gradient =  x**2 + 3*y**2*sin(x)\n"
          ]
        }
      ]
    },
    {
      "cell_type": "markdown",
      "source": [
        "#Question 7"
      ],
      "metadata": {
        "id": "waeoJ7gMLiRH"
      }
    },
    {
      "cell_type": "code",
      "source": [
        "Student_info = {2022:{\"Branch 1\":{\"Roll Number\": 100,\n",
        "                                  \"Name\":\"std1\",\n",
        "                                  \"Marks\":{\"Maths\": 78, \"English\": 66} },\n",
        "                      \"Branch 2\":{\"Roll Number\": 101,\n",
        "                                  \"Name\":\"std1\",\n",
        "                                  \"Marks\":{\"Maths\": 90, \"English\": 56} }},\n",
        "\n",
        "               2023: {\"Branch 1\":{\"Roll Number\": 102,\n",
        "                                  \"Name\":\"std1\",\n",
        "                                  \"Marks\":{\"Maths\": 36, \"English\": 98} },\n",
        "                      \"Branch 2\":{\"Roll Number\": 103,\n",
        "                                  \"Name\":\"std2\",\n",
        "                                  \"Marks\":{\"Maths\": 70, \"English\": 67} }},\n",
        "\n",
        "               2024: {\"Branch 1\":{\"Roll Number\": 104,\n",
        "                                  \"Name\":\"std3\",\n",
        "                                  \"Marks\":{\"Maths\": 84, \"English\": 88} },\n",
        "                      \"Branch 2\":{\"Roll Number\": 105,\n",
        "                                  \"Name\":\"std4\",\n",
        "                                  \"Marks\":{\"Maths\": 97, \"English\": 97} }},\n",
        "\n",
        "               2025: {\"Branch 1\":{\"Roll Number\": 106,\n",
        "                                  \"Name\":\"std5\",\n",
        "                                  \"Marks\":{\"Maths\": 88, \"English\": 79} },\n",
        "                      \"Branch 2\":{\"Roll Number\": 107,\n",
        "                                  \"Name\":\"std6\",\n",
        "                                  \"Marks\":{\"Maths\": 75, \"English\": 85} }}}\n",
        "\n",
        "print(Student_info)"
      ],
      "metadata": {
        "colab": {
          "base_uri": "https://localhost:8080/"
        },
        "id": "f_Z44DY4AV5X",
        "outputId": "f9e19d5e-94a1-4dd0-d773-031334160e41"
      },
      "execution_count": 32,
      "outputs": [
        {
          "output_type": "stream",
          "name": "stdout",
          "text": [
            "{2022: {'Branch 1': {'Roll Number': 100, 'Name': 'std1', 'Marks': {'Maths': 78, 'English': 66}}, 'Branch 2': {'Roll Number': 101, 'Name': 'std1', 'Marks': {'Maths': 90, 'English': 56}}}, 2023: {'Branch 1': {'Roll Number': 102, 'Name': 'std1', 'Marks': {'Maths': 36, 'English': 98}}, 'Branch 2': {'Roll Number': 103, 'Name': 'std2', 'Marks': {'Maths': 70, 'English': 67}}}, 2024: {'Branch 1': {'Roll Number': 104, 'Name': 'std3', 'Marks': {'Maths': 84, 'English': 88}}, 'Branch 2': {'Roll Number': 105, 'Name': 'std4', 'Marks': {'Maths': 97, 'English': 97}}}, 2025: {'Branch 1': {'Roll Number': 106, 'Name': 'std5', 'Marks': {'Maths': 88, 'English': 79}}, 'Branch 2': {'Roll Number': 107, 'Name': 'std6', 'Marks': {'Maths': 75, 'English': 85}}}}\n"
          ]
        }
      ]
    },
    {
      "cell_type": "markdown",
      "source": [
        "#Question 8"
      ],
      "metadata": {
        "id": "y3ONggkGBWDq"
      }
    },
    {
      "cell_type": "code",
      "source": [
        "class year:\n",
        "  def __init__(self, years, branch):\n",
        "    self.years= years\n",
        "    self.branch = branch\n",
        "\n",
        "class Branch:\n",
        "  def __init__(self, branch, student_data):\n",
        "    self.branch = branch\n",
        "    self.student_data = student_data\n",
        "\n",
        "class Data:\n",
        "  def __init__(self, Roll_num, Name, Marks):\n",
        "    self.Roll_num = Roll_num\n",
        "    self.Name = Name\n",
        "    self.Marks= Marks\n",
        "\n",
        "\n",
        "Database = [year(2022, [Branch(\"Branch 1\", [Data(100, \"cat1\", {\"Eng\": 86, \"Social\": 65})]), Branch(\"Branch 2\", [Data(101, \"dog1\", {\"Eng\": 76, \"Social\": 65})])]),\n",
        "            year(2023, [Branch(\"Branch 1\", [Data(102, \"cat2\", {\"Eng\": 89, \"Social\": 93})]), Branch(\"Branch 2\", [Data(103, \"dog2\", {\"Eng\": 84, \"Social\": 83})])]),\n",
        "            year(2024, [Branch(\"Branch 1\", [Data(104, \"cat3\", {\"Eng\": 23, \"Social\": 67})]), Branch(\"Branch 2\", [Data(105, \"dog3\", {\"Eng\": 73, \"Social\": 65})])]),\n",
        "            year(2025, [Branch(\"Branch 1\", [Data(106, \"cat4\", {\"Eng\": 84, \"Social\": 82})]), Branch(\"Branch 2\", [Data(107, \"dog4\", {\"Eng\": 56, \"Social\": 85})])]),\n",
        "            year(2026, [Branch(\"Branch 1\", [Data(108, \"cat5\", {\"Eng\": 90, \"Social\": 63})]), Branch(\"Branch 2\", [Data(109, \"dog5\", {\"Eng\": 74, \"Social\": 87})])])]\n",
        "\n",
        ""
      ],
      "metadata": {
        "id": "J6laZk_OBYY1"
      },
      "execution_count": 33,
      "outputs": []
    },
    {
      "cell_type": "markdown",
      "source": [
        "#Question 9"
      ],
      "metadata": {
        "id": "IrV97aEMBrHm"
      }
    },
    {
      "cell_type": "code",
      "source": [
        "import matplotlib.pyplot as plt\n",
        "import numpy as np\n",
        "\n",
        "# Define the domain\n",
        "x = np.arange(0.5, 100.1, 0.5)\n",
        "\n",
        "# Define the functions based on the image\n",
        "functions = [\n",
        "    lambda x: x,\n",
        "    lambda x: x**2,\n",
        "    lambda x: x**3 / 100,\n",
        "    lambda x: np.sin(x),\n",
        "    lambda x: np.sin(x) / x,\n",
        "    lambda x: np.log(x),\n",
        "    lambda x: np.exp(x)\n",
        "]\n",
        "\n",
        "# Create subplots with 2 rows and 4 columns\n",
        "fig, axes = plt.subplots(nrows=2, ncols=4, figsize=(15, 6))\n",
        "\n",
        "# Plot each function in a separate subplot\n",
        "for i, func in enumerate(functions):\n",
        "    row = i // 4\n",
        "    col = i % 4\n",
        "    axes[row, col].plot(x, func(x))\n",
        "    axes[row, col].set_title(f\"Function {i + 1}\")\n",
        "\n",
        "# Adjust layout\n",
        "plt.tight_layout()\n",
        "\n",
        "# Show the plot\n",
        "plt.show()\n"
      ],
      "metadata": {
        "colab": {
          "base_uri": "https://localhost:8080/",
          "height": 475
        },
        "id": "Stoc5NWmSffy",
        "outputId": "2bc50196-5194-46aa-a6b2-8dff3373d474"
      },
      "execution_count": 31,
      "outputs": [
        {
          "output_type": "display_data",
          "data": {
            "text/plain": [
              "<Figure size 1500x600 with 8 Axes>"
            ],
            "image/png": "[encoded data removed]"
          },
          "metadata": {}
        }
      ]
    },
    {
      "cell_type": "markdown",
      "source": [
        "#Question 10"
      ],
      "metadata": {
        "id": "Te0TRyIhBt1j"
      }
    },
    {
      "cell_type": "code",
      "source": [
        "import numpy as np\n",
        "import pandas as pd\n",
        "\n",
        "# Generating a matrix of size 20x5\n",
        "matrix = np.random.uniform(1, 2, size=(20, 5))\n",
        "df = pd.DataFrame(matrix, columns=['a', 'b', 'c', 'd', 'e'])\n",
        "\n",
        "# Column with the highest standard deviation\n",
        "highest_std_col = df.std().idxmax()\n",
        "\n",
        "# Row with the lowest mean\n",
        "lowest_mean_row = df.mean(axis=1).idxmin()\n",
        "\n",
        "print(\"Column with the highest standard deviation:\", highest_std_col)\n",
        "print(\"Row with the lowest mean:\", lowest_mean_row)"
      ],
      "metadata": {
        "colab": {
          "base_uri": "https://localhost:8080/"
        },
        "id": "Lzr_XQlpBvPR",
        "outputId": "1f033d80-f3f1-41f5-8a83-8daead970df4"
      },
      "execution_count": 26,
      "outputs": [
        {
          "output_type": "stream",
          "name": "stdout",
          "text": [
            "Column with the highest standard deviation: d\n",
            "Row with the lowest mean: 18\n"
          ]
        }
      ]
    },
    {
      "cell_type": "code",
      "source": [
        "df"
      ],
      "metadata": {
        "colab": {
          "base_uri": "https://localhost:8080/",
          "height": 676
        },
        "id": "KdhxuhplQ_Ie",
        "outputId": "e3fc0578-190f-425c-8e35-75a06d503852"
      },
      "execution_count": 27,
      "outputs": [
        {
          "output_type": "execute_result",
          "data": {
            "text/plain": [
              "           a         b         c         d         e\n",
              "0   1.609824  1.356205  1.113952  1.847208  1.688093\n",
              "1   1.302242  1.412719  1.854943  1.292197  1.618044\n",
              "2   1.874320  1.411974  1.147697  1.618395  1.779269\n",
              "3   1.845981  1.959240  1.241913  1.604429  1.657266\n",
              "4   1.028394  1.047786  1.192290  1.871829  1.948596\n",
              "5   1.698050  1.341051  1.407845  1.001873  1.681173\n",
              "6   1.394805  1.102592  1.452206  1.860527  1.106735\n",
              "7   1.023124  1.363690  1.915187  1.043621  1.121658\n",
              "8   1.504848  1.594278  1.760523  1.803954  1.183336\n",
              "9   1.066970  1.916696  1.179598  1.749275  1.366321\n",
              "10  1.372849  1.989347  1.702387  1.456057  1.244875\n",
              "11  1.491442  1.653703  1.584363  1.205451  1.329586\n",
              "12  1.713709  1.882244  1.036187  1.117650  1.513277\n",
              "13  1.509228  1.389310  1.542552  1.680772  1.130470\n",
              "14  1.746707  1.491406  1.204238  1.178903  1.249601\n",
              "15  1.229749  1.095441  1.789637  1.483417  1.660268\n",
              "16  1.986119  1.193989  1.277103  1.241131  1.630379\n",
              "17  1.277963  1.520924  1.865175  1.955097  1.686015\n",
              "18  1.473527  1.065106  1.104695  1.004257  1.376027\n",
              "19  1.954662  1.370777  1.184613  1.761421  1.326399"
            ],
            "text/html": [
              "\n",
              "  <div id=\"df-cf4d1f1c-af1a-4de0-b4c1-7c661bb3808b\" class=\"colab-df-container\">\n",
              "    <div>\n",
              "<style scoped>\n",
              "    .dataframe tbody tr th:only-of-type {\n",
              "        vertical-align: middle;\n",
              "    }\n",
              "\n",
              "    .dataframe tbody tr th {\n",
              "        vertical-align: top;\n",
              "    }\n",
              "\n",
              "    .dataframe thead th {\n",
              "        text-align: right;\n",
              "    }\n",
              "</style>\n",
              "<table border=\"1\" class=\"dataframe\">\n",
              "  <thead>\n",
              "    <tr style=\"text-align: right;\">\n",
              "      <th></th>\n",
              "      <th>a</th>\n",
              "      <th>b</th>\n",
              "      <th>c</th>\n",
              "      <th>d</th>\n",
              "      <th>e</th>\n",
              "    </tr>\n",
              "  </thead>\n",
              "  <tbody>\n",
              "    <tr>\n",
              "      <th>0</th>\n",
              "      <td>1.609824</td>\n",
              "      <td>1.356205</td>\n",
              "      <td>1.113952</td>\n",
              "      <td>1.847208</td>\n",
              "      <td>1.688093</td>\n",
              "    </tr>\n",
              "    <tr>\n",
              "      <th>1</th>\n",
              "      <td>1.302242</td>\n",
              "      <td>1.412719</td>\n",
              "      <td>1.854943</td>\n",
              "      <td>1.292197</td>\n",
              "      <td>1.618044</td>\n",
              "    </tr>\n",
              "    <tr>\n",
              "      <th>2</th>\n",
              "      <td>1.874320</td>\n",
              "      <td>1.411974</td>\n",
              "      <td>1.147697</td>\n",
              "      <td>1.618395</td>\n",
              "      <td>1.779269</td>\n",
              "    </tr>\n",
              "    <tr>\n",
              "      <th>3</th>\n",
              "      <td>1.845981</td>\n",
              "      <td>1.959240</td>\n",
              "      <td>1.241913</td>\n",
              "      <td>1.604429</td>\n",
              "      <td>1.657266</td>\n",
              "    </tr>\n",
              "    <tr>\n",
              "      <th>4</th>\n",
              "      <td>1.028394</td>\n",
              "      <td>1.047786</td>\n",
              "      <td>1.192290</td>\n",
              "      <td>1.871829</td>\n",
              "      <td>1.948596</td>\n",
              "    </tr>\n",
              "    <tr>\n",
              "      <th>5</th>\n",
              "      <td>1.698050</td>\n",
              "      <td>1.341051</td>\n",
              "      <td>1.407845</td>\n",
              "      <td>1.001873</td>\n",
              "      <td>1.681173</td>\n",
              "    </tr>\n",
              "    <tr>\n",
              "      <th>6</th>\n",
              "      <td>1.394805</td>\n",
              "      <td>1.102592</td>\n",
              "      <td>1.452206</td>\n",
              "      <td>1.860527</td>\n",
              "      <td>1.106735</td>\n",
              "    </tr>\n",
              "    <tr>\n",
              "      <th>7</th>\n",
              "      <td>1.023124</td>\n",
              "      <td>1.363690</td>\n",
              "      <td>1.915187</td>\n",
              "      <td>1.043621</td>\n",
              "      <td>1.121658</td>\n",
              "    </tr>\n",
              "    <tr>\n",
              "      <th>8</th>\n",
              "      <td>1.504848</td>\n",
              "      <td>1.594278</td>\n",
              "      <td>1.760523</td>\n",
              "      <td>1.803954</td>\n",
              "      <td>1.183336</td>\n",
              "    </tr>\n",
              "    <tr>\n",
              "      <th>9</th>\n",
              "      <td>1.066970</td>\n",
              "      <td>1.916696</td>\n",
              "      <td>1.179598</td>\n",
              "      <td>1.749275</td>\n",
              "      <td>1.366321</td>\n",
              "    </tr>\n",
              "    <tr>\n",
              "      <th>10</th>\n",
              "      <td>1.372849</td>\n",
              "      <td>1.989347</td>\n",
              "      <td>1.702387</td>\n",
              "      <td>1.456057</td>\n",
              "      <td>1.244875</td>\n",
              "    </tr>\n",
              "    <tr>\n",
              "      <th>11</th>\n",
              "      <td>1.491442</td>\n",
              "      <td>1.653703</td>\n",
              "      <td>1.584363</td>\n",
              "      <td>1.205451</td>\n",
              "      <td>1.329586</td>\n",
              "    </tr>\n",
              "    <tr>\n",
              "      <th>12</th>\n",
              "      <td>1.713709</td>\n",
              "      <td>1.882244</td>\n",
              "      <td>1.036187</td>\n",
              "      <td>1.117650</td>\n",
              "      <td>1.513277</td>\n",
              "    </tr>\n",
              "    <tr>\n",
              "      <th>13</th>\n",
              "      <td>1.509228</td>\n",
              "      <td>1.389310</td>\n",
              "      <td>1.542552</td>\n",
              "      <td>1.680772</td>\n",
              "      <td>1.130470</td>\n",
              "    </tr>\n",
              "    <tr>\n",
              "      <th>14</th>\n",
              "      <td>1.746707</td>\n",
              "      <td>1.491406</td>\n",
              "      <td>1.204238</td>\n",
              "      <td>1.178903</td>\n",
              "      <td>1.249601</td>\n",
              "    </tr>\n",
              "    <tr>\n",
              "      <th>15</th>\n",
              "      <td>1.229749</td>\n",
              "      <td>1.095441</td>\n",
              "      <td>1.789637</td>\n",
              "      <td>1.483417</td>\n",
              "      <td>1.660268</td>\n",
              "    </tr>\n",
              "    <tr>\n",
              "      <th>16</th>\n",
              "      <td>1.986119</td>\n",
              "      <td>1.193989</td>\n",
              "      <td>1.277103</td>\n",
              "      <td>1.241131</td>\n",
              "      <td>1.630379</td>\n",
              "    </tr>\n",
              "    <tr>\n",
              "      <th>17</th>\n",
              "      <td>1.277963</td>\n",
              "      <td>1.520924</td>\n",
              "      <td>1.865175</td>\n",
              "      <td>1.955097</td>\n",
              "      <td>1.686015</td>\n",
              "    </tr>\n",
              "    <tr>\n",
              "      <th>18</th>\n",
              "      <td>1.473527</td>\n",
              "      <td>1.065106</td>\n",
              "      <td>1.104695</td>\n",
              "      <td>1.004257</td>\n",
              "      <td>1.376027</td>\n",
              "    </tr>\n",
              "    <tr>\n",
              "      <th>19</th>\n",
              "      <td>1.954662</td>\n",
              "      <td>1.370777</td>\n",
              "      <td>1.184613</td>\n",
              "      <td>1.761421</td>\n",
              "      <td>1.326399</td>\n",
              "    </tr>\n",
              "  </tbody>\n",
              "</table>\n",
              "</div>\n",
              "    <div class=\"colab-df-buttons\">\n",
              "\n",
              "  <div class=\"colab-df-container\">\n",
              "    <button class=\"colab-df-convert\" onclick=\"convertToInteractive('df-cf4d1f1c-af1a-4de0-b4c1-7c661bb3808b')\"\n",
              "            title=\"Convert this dataframe to an interactive table.\"\n",
              "            style=\"display:none;\">\n",
              "\n",
              "  <svg xmlns=\"http://www.w3.org/2000/svg\" height=\"24px\" viewBox=\"0 -960 960 960\">\n",
              "    <path d=\"M120-120v-720h720v720H120Zm60-500h600v-160H180v160Zm220 220h160v-160H400v160Zm0 220h160v-160H400v160ZM180-400h160v-160H180v160Zm440 0h160v-160H620v160ZM180-180h160v-160H180v160Zm440 0h160v-160H620v160Z\"/>\n",
              "  </svg>\n",
              "    </button>\n",
              "\n",
              "  <style>\n",
              "    .colab-df-container {\n",
              "      display:flex;\n",
              "      gap: 12px;\n",
              "    }\n",
              "\n",
              "    .colab-df-convert {\n",
              "      background-color: #E8F0FE;\n",
              "      border: none;\n",
              "      border-radius: 50%;\n",
              "      cursor: pointer;\n",
              "      display: none;\n",
              "      fill: #1967D2;\n",
              "      height: 32px;\n",
              "      padding: 0 0 0 0;\n",
              "      width: 32px;\n",
              "    }\n",
              "\n",
              "    .colab-df-convert:hover {\n",
              "      background-color: #E2EBFA;\n",
              "      box-shadow: 0px 1px 2px rgba(60, 64, 67, 0.3), 0px 1px 3px 1px rgba(60, 64, 67, 0.15);\n",
              "      fill: #174EA6;\n",
              "    }\n",
              "\n",
              "    .colab-df-buttons div {\n",
              "      margin-bottom: 4px;\n",
              "    }\n",
              "\n",
              "    [theme=dark] .colab-df-convert {\n",
              "      background-color: #3B4455;\n",
              "      fill: #D2E3FC;\n",
              "    }\n",
              "\n",
              "    [theme=dark] .colab-df-convert:hover {\n",
              "      background-color: #434B5C;\n",
              "      box-shadow: 0px 1px 3px 1px rgba(0, 0, 0, 0.15);\n",
              "      filter: drop-shadow(0px 1px 2px rgba(0, 0, 0, 0.3));\n",
              "      fill: #FFFFFF;\n",
              "    }\n",
              "  </style>\n",
              "\n",
              "    <script>\n",
              "      const buttonEl =\n",
              "        document.querySelector('#df-cf4d1f1c-af1a-4de0-b4c1-7c661bb3808b button.colab-df-convert');\n",
              "      buttonEl.style.display =\n",
              "        google.colab.kernel.accessAllowed ? 'block' : 'none';\n",
              "\n",
              "      async function convertToInteractive(key) {\n",
              "        const element = document.querySelector('#df-cf4d1f1c-af1a-4de0-b4c1-7c661bb3808b');\n",
              "        const dataTable =\n",
              "          await google.colab.kernel.invokeFunction('convertToInteractive',\n",
              "                                                    [key], {});\n",
              "        if (!dataTable) return;\n",
              "\n",
              "        const docLinkHtml = 'Like what you see? Visit the ' +\n",
              "          '<a target=\"_blank\" href=https://colab.research.google.com/notebooks/data_table.ipynb>data table notebook</a>'\n",
              "          + ' to learn more about interactive tables.';\n",
              "        element.innerHTML = '';\n",
              "        dataTable['output_type'] = 'display_data';\n",
              "        await google.colab.output.renderOutput(dataTable, element);\n",
              "        const docLink = document.createElement('div');\n",
              "        docLink.innerHTML = docLinkHtml;\n",
              "        element.appendChild(docLink);\n",
              "      }\n",
              "    </script>\n",
              "  </div>\n",
              "\n",
              "\n",
              "<div id=\"df-08039558-8004-4098-8f08-206cf5b348da\">\n",
              "  <button class=\"colab-df-quickchart\" onclick=\"quickchart('df-08039558-8004-4098-8f08-206cf5b348da')\"\n",
              "            title=\"Suggest charts\"\n",
              "            style=\"display:none;\">\n",
              "\n",
              "<svg xmlns=\"http://www.w3.org/2000/svg\" height=\"24px\"viewBox=\"0 0 24 24\"\n",
              "     width=\"24px\">\n",
              "    <g>\n",
              "        <path d=\"M19 3H5c-1.1 0-2 .9-2 2v14c0 1.1.9 2 2 2h14c1.1 0 2-.9 2-2V5c0-1.1-.9-2-2-2zM9 17H7v-7h2v7zm4 0h-2V7h2v10zm4 0h-2v-4h2v4z\"/>\n",
              "    </g>\n",
              "</svg>\n",
              "  </button>\n",
              "\n",
              "<style>\n",
              "  .colab-df-quickchart {\n",
              "      --bg-color: #E8F0FE;\n",
              "      --fill-color: #1967D2;\n",
              "      --hover-bg-color: #E2EBFA;\n",
              "      --hover-fill-color: #174EA6;\n",
              "      --disabled-fill-color: #AAA;\n",
              "      --disabled-bg-color: #DDD;\n",
              "  }\n",
              "\n",
              "  [theme=dark] .colab-df-quickchart {\n",
              "      --bg-color: #3B4455;\n",
              "      --fill-color: #D2E3FC;\n",
              "      --hover-bg-color: #434B5C;\n",
              "      --hover-fill-color: #FFFFFF;\n",
              "      --disabled-bg-color: #3B4455;\n",
              "      --disabled-fill-color: #666;\n",
              "  }\n",
              "\n",
              "  .colab-df-quickchart {\n",
              "    background-color: var(--bg-color);\n",
              "    border: none;\n",
              "    border-radius: 50%;\n",
              "    cursor: pointer;\n",
              "    display: none;\n",
              "    fill: var(--fill-color);\n",
              "    height: 32px;\n",
              "    padding: 0;\n",
              "    width: 32px;\n",
              "  }\n",
              "\n",
              "  .colab-df-quickchart:hover {\n",
              "    background-color: var(--hover-bg-color);\n",
              "    box-shadow: 0 1px 2px rgba(60, 64, 67, 0.3), 0 1px 3px 1px rgba(60, 64, 67, 0.15);\n",
              "    fill: var(--button-hover-fill-color);\n",
              "  }\n",
              "\n",
              "  .colab-df-quickchart-complete:disabled,\n",
              "  .colab-df-quickchart-complete:disabled:hover {\n",
              "    background-color: var(--disabled-bg-color);\n",
              "    fill: var(--disabled-fill-color);\n",
              "    box-shadow: none;\n",
              "  }\n",
              "\n",
              "  .colab-df-spinner {\n",
              "    border: 2px solid var(--fill-color);\n",
              "    border-color: transparent;\n",
              "    border-bottom-color: var(--fill-color);\n",
              "    animation:\n",
              "      spin 1s steps(1) infinite;\n",
              "  }\n",
              "\n",
              "  @keyframes spin {\n",
              "    0% {\n",
              "      border-color: transparent;\n",
              "      border-bottom-color: var(--fill-color);\n",
              "      border-left-color: var(--fill-color);\n",
              "    }\n",
              "    20% {\n",
              "      border-color: transparent;\n",
              "      border-left-color: var(--fill-color);\n",
              "      border-top-color: var(--fill-color);\n",
              "    }\n",
              "    30% {\n",
              "      border-color: transparent;\n",
              "      border-left-color: var(--fill-color);\n",
              "      border-top-color: var(--fill-color);\n",
              "      border-right-color: var(--fill-color);\n",
              "    }\n",
              "    40% {\n",
              "      border-color: transparent;\n",
              "      border-right-color: var(--fill-color);\n",
              "      border-top-color: var(--fill-color);\n",
              "    }\n",
              "    60% {\n",
              "      border-color: transparent;\n",
              "      border-right-color: var(--fill-color);\n",
              "    }\n",
              "    80% {\n",
              "      border-color: transparent;\n",
              "      border-right-color: var(--fill-color);\n",
              "      border-bottom-color: var(--fill-color);\n",
              "    }\n",
              "    90% {\n",
              "      border-color: transparent;\n",
              "      border-bottom-color: var(--fill-color);\n",
              "    }\n",
              "  }\n",
              "</style>\n",
              "\n",
              "  <script>\n",
              "    async function quickchart(key) {\n",
              "      const quickchartButtonEl =\n",
              "        document.querySelector('#' + key + ' button');\n",
              "      quickchartButtonEl.disabled = true;  // To prevent multiple clicks.\n",
              "      quickchartButtonEl.classList.add('colab-df-spinner');\n",
              "      try {\n",
              "        const charts = await google.colab.kernel.invokeFunction(\n",
              "            'suggestCharts', [key], {});\n",
              "      } catch (error) {\n",
              "        console.error('Error during call to suggestCharts:', error);\n",
              "      }\n",
              "      quickchartButtonEl.classList.remove('colab-df-spinner');\n",
              "      quickchartButtonEl.classList.add('colab-df-quickchart-complete');\n",
              "    }\n",
              "    (() => {\n",
              "      let quickchartButtonEl =\n",
              "        document.querySelector('#df-08039558-8004-4098-8f08-206cf5b348da button');\n",
              "      quickchartButtonEl.style.display =\n",
              "        google.colab.kernel.accessAllowed ? 'block' : 'none';\n",
              "    })();\n",
              "  </script>\n",
              "</div>\n",
              "    </div>\n",
              "  </div>\n"
            ]
          },
          "metadata": {},
          "execution_count": 27
        }
      ]
    },
    {
      "cell_type": "markdown",
      "source": [
        "#Question 11"
      ],
      "metadata": {
        "id": "-xQ_svQiBvxE"
      }
    },
    {
      "cell_type": "code",
      "source": [
        "# Add a new column 'f' which is the sum of columns 'a', 'b', 'c', 'd', 'e'\n",
        "df['f'] = df[['a', 'b', 'c', 'd', 'e']].sum(axis=1)\n",
        "\n",
        "# Creating the new column 'g'\n",
        "df['g'] = np.where(df['f'] < 8, 'LT8', 'GT8')\n",
        "\n",
        "# Nmber of rows where the value in column 'g' is 'LT8'\n",
        "num_lt8_rows = df[df['g'] == 'LT8'].shape[0]\n",
        "\n",
        "# Standard deviation of column 'f' for rows where 'g' is 'LT8' and 'GT8' respectively\n",
        "std_lt8 = df[df['g'] == 'LT8']['f'].std()\n",
        "std_gt8 = df[df['g'] == 'GT8']['f'].std()\n",
        "\n",
        "print(\"DataFrame with new columns:\")\n",
        "print(df)\n",
        "print(\"\\nNumber of rows where the value in column 'g' is 'LT8':\", num_lt8_rows)\n",
        "print(\"Standard deviation of column 'f' for rows where 'g' is 'LT8':\", std_lt8)\n",
        "print(\"Standard deviation of column 'f' for rows where 'g' is 'GT8':\", std_gt8)\n"
      ],
      "metadata": {
        "colab": {
          "base_uri": "https://localhost:8080/"
        },
        "id": "Te8a8rO3BxU-",
        "outputId": "da1e9a94-ab9c-43fe-aa59-d341e55eee33"
      },
      "execution_count": 30,
      "outputs": [
        {
          "output_type": "stream",
          "name": "stdout",
          "text": [
            "DataFrame with new columns:\n",
            "           a         b         c         d         e         f    g\n",
            "0   1.609824  1.356205  1.113952  1.847208  1.688093  7.615283  LT8\n",
            "1   1.302242  1.412719  1.854943  1.292197  1.618044  7.480145  LT8\n",
            "2   1.874320  1.411974  1.147697  1.618395  1.779269  7.831654  LT8\n",
            "3   1.845981  1.959240  1.241913  1.604429  1.657266  8.308829  GT8\n",
            "4   1.028394  1.047786  1.192290  1.871829  1.948596  7.088895  LT8\n",
            "5   1.698050  1.341051  1.407845  1.001873  1.681173  7.129990  LT8\n",
            "6   1.394805  1.102592  1.452206  1.860527  1.106735  6.916864  LT8\n",
            "7   1.023124  1.363690  1.915187  1.043621  1.121658  6.467279  LT8\n",
            "8   1.504848  1.594278  1.760523  1.803954  1.183336  7.846938  LT8\n",
            "9   1.066970  1.916696  1.179598  1.749275  1.366321  7.278859  LT8\n",
            "10  1.372849  1.989347  1.702387  1.456057  1.244875  7.765515  LT8\n",
            "11  1.491442  1.653703  1.584363  1.205451  1.329586  7.264545  LT8\n",
            "12  1.713709  1.882244  1.036187  1.117650  1.513277  7.263068  LT8\n",
            "13  1.509228  1.389310  1.542552  1.680772  1.130470  7.252332  LT8\n",
            "14  1.746707  1.491406  1.204238  1.178903  1.249601  6.870856  LT8\n",
            "15  1.229749  1.095441  1.789637  1.483417  1.660268  7.258511  LT8\n",
            "16  1.986119  1.193989  1.277103  1.241131  1.630379  7.328720  LT8\n",
            "17  1.277963  1.520924  1.865175  1.955097  1.686015  8.305173  GT8\n",
            "18  1.473527  1.065106  1.104695  1.004257  1.376027  6.023612  LT8\n",
            "19  1.954662  1.370777  1.184613  1.761421  1.326399  7.597872  LT8\n",
            "\n",
            "Number of rows where the value in column 'g' is 'LT8': 18\n",
            "Standard deviation of column 'f' for rows where 'g' is 'LT8': 0.46554302551608134\n",
            "Standard deviation of column 'f' for rows where 'g' is 'GT8': 0.002585160289622595\n"
          ]
        }
      ]
    },
    {
      "cell_type": "markdown",
      "source": [
        "#Question 12"
      ],
      "metadata": {
        "id": "iFzc0NyuBx0m"
      }
    },
    {
      "cell_type": "markdown",
      "source": [
        "Broadcasting is used to manipulate the size of the array to perform a particluar operation (addition or substraction). In this example, the scalar value $5$ is added to the entire matrix $matrix$ using broadcasting. Broadcasting in NumPy allows arithmetic operations between arrays of different shapes by automatically aligning dimensions to perform the operation. In this case, the scalar $5$ is broadcasted to match the shape of the matrix, resulting in each element of the matrix being increased by $5$.\n"
      ],
      "metadata": {
        "id": "Sg3xhUCSCCbs"
      }
    },
    {
      "cell_type": "code",
      "source": [
        "import numpy as np\n",
        "\n",
        "# Define a 2x2 matrix\n",
        "matrix = np.array([[1, 2],\n",
        "                   [3, 4]])\n",
        "\n",
        "# Add a scalar to the entire matrix using broadcasting\n",
        "scalar_added = matrix + 5\n",
        "\n",
        "print(\"Original Matrix:\")\n",
        "print(matrix)\n",
        "print(\"\\nScalar Added Matrix:\")\n",
        "print(scalar_added)\n"
      ],
      "metadata": {
        "colab": {
          "base_uri": "https://localhost:8080/"
        },
        "id": "dCOs3Z_ABy6L",
        "outputId": "2a4d037f-6e75-417d-b668-fcd3009d0850"
      },
      "execution_count": 24,
      "outputs": [
        {
          "output_type": "stream",
          "name": "stdout",
          "text": [
            "Original Matrix:\n",
            "[[1 2]\n",
            " [3 4]]\n",
            "\n",
            "Scalar Added Matrix:\n",
            "[[6 7]\n",
            " [8 9]]\n"
          ]
        }
      ]
    },
    {
      "cell_type": "markdown",
      "source": [
        "#Question 13"
      ],
      "metadata": {
        "id": "Ay4QRotzBzZr"
      }
    },
    {
      "cell_type": "code",
      "source": [
        "import numpy as np\n",
        "\n",
        "def custom_argmin(arr):\n",
        "    min_val = arr[0]\n",
        "    min_index = 0\n",
        "\n",
        "    for i in range(1, len(arr)):\n",
        "        if arr[i] < min_val:\n",
        "            min_val = arr[i]\n",
        "            min_index = i\n",
        "\n",
        "    return min_index\n",
        "\n",
        "# Example usage:\n",
        "arr = np.array([5, 3, 9, 2, 7])\n",
        "argmin_custom = custom_argmin(arr)\n",
        "print(\"Custom argmin:\", argmin_custom)\n",
        "\n",
        "# Using np.argmin for verification\n",
        "argmin_np = np.argmin(arr)\n",
        "print(\"NumPy argmin:\", argmin_np)\n",
        "\n"
      ],
      "metadata": {
        "colab": {
          "base_uri": "https://localhost:8080/"
        },
        "id": "vBz_WOdUB02O",
        "outputId": "4a63e90e-fee3-445f-c8ef-b6451d03a663"
      },
      "execution_count": 25,
      "outputs": [
        {
          "output_type": "stream",
          "name": "stdout",
          "text": [
            "Custom argmin: 3\n",
            "NumPy argmin: 3\n"
          ]
        }
      ]
    },
    {
      "cell_type": "code",
      "source": [],
      "metadata": {
        "id": "lCBSnamMQdza"
      },
      "execution_count": null,
      "outputs": []
    }
  ]
}